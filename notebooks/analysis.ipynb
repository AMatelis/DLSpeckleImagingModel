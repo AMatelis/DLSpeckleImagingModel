{
 "cells": [
  {
   "cell_type": "code",
   "execution_count": null,
   "id": "2e45d85c",
   "metadata": {
    "vscode": {
     "languageId": "plaintext"
    }
   },
   "outputs": [],
   "source": [
    "import pandas as pd\n",
    "import seaborn as sns\n",
    "import matplotlib.pyplot as plt\n",
    "import os\n",
    "\n",
    "# Load CSV (adjust path if needed)\n",
    "csv_path = os.path.join(\"..\", \"data\", \"speckle_contrast_with_diff.csv\")\n",
    "df = pd.read_csv(csv_path)\n",
    "\n",
    "# Preview data\n",
    "df.head()\n"
   ]
  },
  {
   "cell_type": "code",
   "execution_count": null,
   "id": "50b21d5b",
   "metadata": {
    "vscode": {
     "languageId": "plaintext"
    }
   },
   "outputs": [],
   "source": [
    "# Summary of the dataset\n",
    "df.describe()"
   ]
  },
  {
   "cell_type": "code",
   "execution_count": null,
   "id": "9a9e3585",
   "metadata": {
    "vscode": {
     "languageId": "plaintext"
    }
   },
   "outputs": [],
   "source": [
    "plt.figure(figsize=(10, 6))\n",
    "sns.heatmap(df.corr(), annot=True, cmap=\"coolwarm\", fmt=\".2f\")\n",
    "plt.title(\"Feature Correlation Heatmap\")\n",
    "plt.show()"
   ]
  },
  {
   "cell_type": "code",
   "execution_count": null,
   "id": "4c38c072",
   "metadata": {
    "vscode": {
     "languageId": "plaintext"
    }
   },
   "outputs": [],
   "source": [
    "sns.countplot(data=df, x=\"FlowRate\")\n",
    "plt.title(\"Distribution of Flow Rates\")\n",
    "plt.xlabel(\"Flow Rate (ul/min)\")\n",
    "plt.ylabel(\"Number of Frames\")\n",
    "plt.show()"
   ]
  },
  {
   "cell_type": "code",
   "execution_count": null,
   "id": "3372fa49",
   "metadata": {
    "vscode": {
     "languageId": "plaintext"
    }
   },
   "outputs": [],
   "source": [
    "sns.scatterplot(data=df, x=\"FlowRate\", y=\"DiffImageContrast\")\n",
    "plt.title(\"Flow Rate vs DiffImageContrast\")\n",
    "plt.grid(True)\n",
    "plt.show()"
   ]
  },
  {
   "cell_type": "code",
   "execution_count": null,
   "id": "be3a0d3e",
   "metadata": {
    "vscode": {
     "languageId": "plaintext"
    }
   },
   "outputs": [],
   "source": [
    "# You can change this to use any of the kernel sizes: '3x3', '5x5', etc.\n",
    "kernel = \"3x3\"\n",
    "\n",
    "sns.lineplot(data=df, x=\"FlowRate\", y=kernel, marker=\"o\")\n",
    "plt.title(f\"{kernel} Contrast vs Flow Rate\")\n",
    "plt.grid(True)\n",
    "plt.show()"
   ]
  },
  {
   "cell_type": "code",
   "execution_count": null,
   "id": "5776c57b",
   "metadata": {
    "vscode": {
     "languageId": "plaintext"
    }
   },
   "outputs": [],
   "source": [
    "import cv2\n",
    "\n",
    "# Path to video (adjust if needed)\n",
    "video_path = os.path.join(\"..\", \"data\", \"0ulpermin.avi\")\n",
    "\n",
    "# Read one frame\n",
    "cap = cv2.VideoCapture(video_path)\n",
    "ret, frame = cap.read()\n",
    "cap.release()\n",
    "\n",
    "# Convert to grayscale and plot\n",
    "if ret:\n",
    "    gray = cv2.cvtColor(frame, cv2.COLOR_BGR2GRAY)\n",
    "    plt.imshow(gray, cmap=\"gray\")\n",
    "    plt.title(\"Sample Frame from 0ulpermin.avi\")\n",
    "    plt.axis(\"off\")\n",
    "    plt.show()\n",
    "else:\n",
    "    print(\"Failed to load video.\")"
   ]
  },
  {
   "cell_type": "code",
   "execution_count": null,
   "id": "c6151d5c",
   "metadata": {
    "vscode": {
     "languageId": "plaintext"
    }
   },
   "outputs": [],
   "source": [
    "# If you have a saved CSV of predictions:\n",
    "# Make sure it contains columns 'true' and 'predicted'\n",
    "\n",
    "pred_path = os.path.join(\"..\", \"outputs\", \"predictions.csv\")\n",
    "if os.path.exists(pred_path):\n",
    "    preds = pd.read_csv(pred_path)\n",
    "    sns.scatterplot(x=preds[\"true\"], y=preds[\"predicted\"], alpha=0.7)\n",
    "    plt.plot([0, 400], [0, 400], 'r--')\n",
    "    plt.xlabel(\"True Flow Rate\")\n",
    "    plt.ylabel(\"Predicted Flow Rate\")\n",
    "    plt.title(\"Predicted vs True Flow Rates\")\n",
    "    plt.grid(True)\n",
    "    plt.show()\n",
    "else:\n",
    "    print(\"Predictions file not found.\")"
   ]
  }
 ],
 "metadata": {
  "language_info": {
   "name": "python"
  }
 },
 "nbformat": 4,
 "nbformat_minor": 5
}
